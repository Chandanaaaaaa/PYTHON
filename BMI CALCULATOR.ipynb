{
 "cells": [
  {
   "cell_type": "code",
   "execution_count": 1,
   "id": "78bbda8b",
   "metadata": {},
   "outputs": [
    {
     "name": "stdout",
     "output_type": "stream",
     "text": [
      "Enter your name: HARI\n",
      "Enter your weight in pounds: 114\n",
      "enter your height in inches :72\n",
      "15.45949074074074\n",
      "HARI,you are underweight\n"
     ]
    }
   ],
   "source": [
    "name=input(\"Enter your name: \")\n",
    "\n",
    "weight=int(input(\"Enter your weight in pounds: \"))\n",
    "\n",
    "height=int(input(\"enter your height in inches :\"))\n",
    "\n",
    "BMI = (weight*703)/(height*height)\n",
    "\n",
    "print(BMI)\n",
    "\n",
    "if BMI>0:\n",
    "    if(BMI<18.5):\n",
    "        print(name+\",you are underweight\")\n",
    "    elif(BMI<=24.9):\n",
    "        print(name+\",you are normalweight\")\n",
    "    elif(BMI<29.9):\n",
    "        print(name+\",you are overweight\")\n",
    "    elif(BMI<34.9):\n",
    "        print(name+\",you are obese\")\n",
    "    elif(BMI<39.9):\n",
    "        print(name+\",you are severely obese\")\n",
    "    else:\n",
    "        print(name+\",you are morbidly obese\")\n",
    "else:\n",
    "    print(\"enter valid input\")\n"
   ]
  },
  {
   "cell_type": "code",
   "execution_count": null,
   "id": "43f5ca89",
   "metadata": {},
   "outputs": [],
   "source": []
  },
  {
   "cell_type": "code",
   "execution_count": null,
   "id": "c210b296",
   "metadata": {},
   "outputs": [],
   "source": []
  },
  {
   "cell_type": "code",
   "execution_count": null,
   "id": "8eab67a7",
   "metadata": {},
   "outputs": [],
   "source": []
  },
  {
   "cell_type": "code",
   "execution_count": null,
   "id": "3cf8f8de",
   "metadata": {},
   "outputs": [],
   "source": []
  },
  {
   "cell_type": "code",
   "execution_count": null,
   "id": "88202fb9",
   "metadata": {},
   "outputs": [],
   "source": []
  }
 ],
 "metadata": {
  "kernelspec": {
   "display_name": "Python 3 (ipykernel)",
   "language": "python",
   "name": "python3"
  },
  "language_info": {
   "codemirror_mode": {
    "name": "ipython",
    "version": 3
   },
   "file_extension": ".py",
   "mimetype": "text/x-python",
   "name": "python",
   "nbconvert_exporter": "python",
   "pygments_lexer": "ipython3",
   "version": "3.11.3"
  }
 },
 "nbformat": 4,
 "nbformat_minor": 5
}
